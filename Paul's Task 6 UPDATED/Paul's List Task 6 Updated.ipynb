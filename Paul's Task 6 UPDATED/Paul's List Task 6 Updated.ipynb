{
 "cells": [
  {
   "cell_type": "markdown",
   "id": "c64ef2f8-669a-4b15-8454-999f7479c172",
   "metadata": {},
   "source": [
    "# Paul's List Task 6 – Updated ver.\n",
    "Input:(Paul-list task)Plant_Species_Native_Exotic_Genus.xlsx\n",
    "\n",
    "Data sources: CBCity PCT Lists.xlsx (Cameron's big spreadsheet)；combined_synonym_list.xlsx (alternate_names → accepted_name)\n",
    "\n",
    "Output: Paul_Task6_updated.xlsx"
   ]
  },
  {
   "cell_type": "markdown",
   "id": "c64ca277-77b3-419d-a8c0-7045ac109cee",
   "metadata": {},
   "source": [
    "### Load reqired datasets: \n",
    "1. Updated Paul's list\n",
    "2. Synonym list\n",
    "3. Cameron's big spreadsheet"
   ]
  },
  {
   "cell_type": "code",
   "execution_count": 1,
   "id": "d192cb08-01ba-42e2-bf3c-7e0824108773",
   "metadata": {},
   "outputs": [],
   "source": [
    "import pandas as pd\n",
    "import re\n",
    "\n",
    "# Updated Paul's List\n",
    "paul_file = \"(Paul-list task)Plant_Species_Native_Exotic_Genus.xlsx\"\n",
    "native = pd.read_excel(paul_file, sheet_name=\"Native_list\")\n",
    "exotic = pd.read_excel(paul_file, sheet_name=\"Exotic_list\")\n",
    "genus = pd.read_excel(paul_file, sheet_name=\"Genus_only_list\")\n",
    "\n",
    "# Synonym List \n",
    "synonyms = pd.read_excel(\"combined_synonym_list.xlsx\")\n",
    "synonyms.columns = synonyms.columns.str.strip().str.lower()\n",
    "syn_dict = dict(zip(synonyms[\"alternate_names\"], synonyms[\"accepted_name\"]))\n",
    "\n",
    "# Cameron's big spreadsheet\n",
    "xls = pd.ExcelFile(\"CBCity PCT Lists.xlsx\")\n",
    "all_sheets = []\n",
    "for sheet in xls.sheet_names:\n",
    "    df = pd.read_excel(xls, sheet_name=sheet)\n",
    "    df.columns = df.columns.str.strip()\n",
    "    df[\"PCT_Name\"] = sheet\n",
    "    all_sheets.append(df)\n",
    "pct_all = pd.concat(all_sheets, ignore_index=True)"
   ]
  },
  {
   "cell_type": "markdown",
   "id": "2a7117df-0661-458f-8f7d-19d6c64990e0",
   "metadata": {},
   "source": [
    "### Classify 3 key PCTs, and Other"
   ]
  },
  {
   "cell_type": "code",
   "execution_count": 2,
   "id": "2254fdfc-d50c-46ec-988e-ebea34e0b4f6",
   "metadata": {},
   "outputs": [],
   "source": [
    "def classify_region(name):\n",
    "    if name == \"3320-Cumb\":\n",
    "        return \"Cumberland\"\n",
    "    elif name == \"3448-Castl\":\n",
    "        return \"Castlereagh\"\n",
    "    elif name == \"3262-STIF\":\n",
    "        return \"STIF\"\n",
    "    else:\n",
    "        return \"Other\"\n",
    "\n",
    "pct_all[\"Region\"] = pct_all[\"PCT_Name\"].apply(classify_region)"
   ]
  },
  {
   "cell_type": "markdown",
   "id": "eac94b1d-caa5-4842-838a-4cd541ca72f5",
   "metadata": {},
   "source": [
    "### Apply synonym mapping and normalize names"
   ]
  },
  {
   "cell_type": "code",
   "execution_count": 3,
   "id": "9ad05f60-ac36-4279-a161-88455e20deaf",
   "metadata": {},
   "outputs": [],
   "source": [
    "# only apply synonym to PCT file\n",
    "pct_all[\"Species\"] = (\n",
    "    pct_all[\"Species\"]\n",
    "    .astype(str)\n",
    "    .str.strip()\n",
    "    .str.replace(r\"\\s+\", \" \", regex=True)\n",
    "    .str.lower()\n",
    "    .replace(syn_dict)   \n",
    ")"
   ]
  },
  {
   "cell_type": "markdown",
   "id": "e28f5753-85fa-4dc2-8cfb-b601c84a3cf9",
   "metadata": {},
   "source": [
    "### Extract simplified growth form"
   ]
  },
  {
   "cell_type": "code",
   "execution_count": 4,
   "id": "f516f280-1adb-4a5a-a3c5-d855e2bf5e26",
   "metadata": {},
   "outputs": [],
   "source": [
    "pct_all[\"Simplified_Growth_Form\"] = pct_all[\"Growth Form\"].apply(\n",
    "    lambda x: re.search(r\"\\((.*?)\\)\", str(x)).group(1).strip()\n",
    "    if pd.notna(x) and \"(\" in str(x)\n",
    "    else \"\"\n",
    ")"
   ]
  },
  {
   "cell_type": "markdown",
   "id": "7b9c14d0-737c-454d-a654-13d70357868d",
   "metadata": {},
   "source": [
    "### Keep and rename required columns"
   ]
  },
  {
   "cell_type": "code",
   "execution_count": 5,
   "id": "a67b2032-e282-4d5a-a3e4-ae278a9caa25",
   "metadata": {},
   "outputs": [],
   "source": [
    "pct_data = pct_all[\n",
    "    [\"Species\", \"Region\", \"Median Cover Score\", \"Frequency\", \"Simplified_Growth_Form\"]\n",
    "].rename(\n",
    "    columns={\n",
    "        \"Species\": \"scientific_name\",\n",
    "        \"Median Cover Score\": \"MedianCover\",\n",
    "        \"Frequency\": \"Frequency\",\n",
    "    }\n",
    ")"
   ]
  },
  {
   "cell_type": "markdown",
   "id": "03776bf8-d033-4094-a739-797a5b08139b",
   "metadata": {},
   "source": [
    "### Create required cols and define fill function"
   ]
  },
  {
   "cell_type": "code",
   "execution_count": 6,
   "id": "01feda87-3f22-48e4-80be-5e61beb5f73e",
   "metadata": {},
   "outputs": [],
   "source": [
    "# Creat cols and define fill function \n",
    "def fill_from_pct(df):\n",
    "    df = df.copy()\n",
    "\n",
    "    # Normalize names, keep case consistent for matching\n",
    "    df[\"scientific_name\"] = (\n",
    "        df[\"scientific_name\"]\n",
    "        .astype(str)\n",
    "        .str.strip()\n",
    "        .str.replace(r\"\\s+\", \" \", regex=True)\n",
    "        .str.lower()   \n",
    "    )\n",
    "\n",
    "    # Ensure all required columns exist\n",
    "    for col in [\n",
    "        \"Cumberland_MedianCover\", \"Cumberland_Frequency\",\n",
    "        \"Castlereagh_MedianCover\", \"Castlereagh_Frequency\",\n",
    "        \"STIF_MedianCover\", \"STIF_Frequency\",\n",
    "        \"Other_Y\", \"Simplified_Growth_Form\"\n",
    "    ]:\n",
    "        if col not in df.columns:\n",
    "            df[col] = \"\"\n",
    "\n",
    "    # Fill the 3 key PCTs\n",
    "    for region in [\"Cumberland\", \"Castlereagh\", \"STIF\"]:\n",
    "        sub = pct_data[pct_data[\"Region\"] == region][\n",
    "            [\"scientific_name\", \"MedianCover\", \"Frequency\"]\n",
    "        ].drop_duplicates(subset=[\"scientific_name\"], keep=\"first\")\n",
    "\n",
    "        sub = sub.rename(\n",
    "            columns={\n",
    "                \"MedianCover\": f\"{region}_MedianCover\",\n",
    "                \"Frequency\": f\"{region}_Frequency\",\n",
    "            }\n",
    "        )\n",
    "\n",
    "        df = df.merge(sub, on=\"scientific_name\", how=\"left\", suffixes=(\"\", \"_new\"))\n",
    "\n",
    "        for col in [f\"{region}_MedianCover\", f\"{region}_Frequency\"]:\n",
    "            df[col] = df[f\"{col}_new\"].combine_first(df[col])\n",
    "            df.drop(columns=[f\"{col}_new\"], inplace=True)\n",
    "\n",
    "    # Fill Other col\n",
    "    other_species = pct_data.loc[\n",
    "        pct_data[\"Region\"] == \"Other\", \"scientific_name\"\n",
    "    ].drop_duplicates()\n",
    "    df[\"Other_Y\"] = df[\"scientific_name\"].isin(other_species).map({True: \"Y\", False: \"\"})\n",
    "\n",
    "    # Fill Simplified Growth Form\n",
    "    growth_map = (\n",
    "        pct_data.drop_duplicates(subset=[\"scientific_name\"])\n",
    "        .set_index(\"scientific_name\")[\"Simplified_Growth_Form\"]\n",
    "        .to_dict()\n",
    "    )\n",
    "    df[\"Simplified_Growth_Form\"] = df[\"scientific_name\"].map(growth_map).fillna(\"\")\n",
    "\n",
    "    print(f\"Finished filling {len(df)} rows for this sheet.\")\n",
    "    return df"
   ]
  },
  {
   "cell_type": "markdown",
   "id": "67fd008c-b703-49c2-9666-7d2e39345984",
   "metadata": {},
   "source": [
    "### Apply and update 3 worksheets"
   ]
  },
  {
   "cell_type": "code",
   "execution_count": 7,
   "id": "55c80c19-f78d-4cae-900a-59bbf59efab0",
   "metadata": {},
   "outputs": [
    {
     "name": "stdout",
     "output_type": "stream",
     "text": [
      "Finished filling 1201 rows for this sheet.\n",
      "Finished filling 684 rows for this sheet.\n",
      "Finished filling 217 rows for this sheet.\n"
     ]
    }
   ],
   "source": [
    "native_upd = fill_from_pct(native)\n",
    "exotic_upd = fill_from_pct(exotic)\n",
    "genus_upd = fill_from_pct(genus)"
   ]
  },
  {
   "cell_type": "markdown",
   "id": "40a85464-9c84-4807-a545-f77624b5d82c",
   "metadata": {},
   "source": [
    "### Export and save final results"
   ]
  },
  {
   "cell_type": "code",
   "execution_count": 8,
   "id": "09cb312c-fab3-480d-ac9c-2f62ffd35600",
   "metadata": {},
   "outputs": [
    {
     "name": "stdout",
     "output_type": "stream",
     "text": [
      "File saved as 'Paul_Task6_updated.xlsx'.\n"
     ]
    }
   ],
   "source": [
    "output_file = \"Paul_Task6_updated.xlsx\"\n",
    "with pd.ExcelWriter(output_file, engine=\"openpyxl\") as writer:\n",
    "    native_upd.to_excel(writer, sheet_name=\"Native_list\", index=False)\n",
    "    exotic_upd.to_excel(writer, sheet_name=\"Exotic_list\", index=False)\n",
    "    genus_upd.to_excel(writer, sheet_name=\"Genus_only_list\", index=False)\n",
    "\n",
    "print(f\"File saved as '{output_file}'.\")"
   ]
  }
 ],
 "metadata": {
  "kernelspec": {
   "display_name": "Python 3 (ipykernel)",
   "language": "python",
   "name": "python3"
  },
  "language_info": {
   "codemirror_mode": {
    "name": "ipython",
    "version": 3
   },
   "file_extension": ".py",
   "mimetype": "text/x-python",
   "name": "python",
   "nbconvert_exporter": "python",
   "pygments_lexer": "ipython3",
   "version": "3.12.4"
  }
 },
 "nbformat": 4,
 "nbformat_minor": 5
}
