{
 "cells": [
  {
   "cell_type": "markdown",
   "id": "351efab0-0627-4da9-b7fc-d1076762cd67",
   "metadata": {},
   "source": [
    "## 1. Filter native records from the KS file"
   ]
  },
  {
   "cell_type": "code",
   "execution_count": 1,
   "id": "56ef17a6-da8a-4784-acab-f2fe8727c3f3",
   "metadata": {},
   "outputs": [
    {
     "name": "stdout",
     "output_type": "stream",
     "text": [
      "Total Record Number: 1355 ，Saved as Flora_Native_ReportOnly.xlsx\n"
     ]
    }
   ],
   "source": [
    "import pandas as pd\n",
    "\n",
    "file_path = \"KS edited Flora_All Species20250624-Weed VS Native.xlsx\"\n",
    "df = pd.read_excel(file_path, sheet_name=0)\n",
    "\n",
    "native_df = df[df[\"Local Status\"].str.lower() == \"native\"]\n",
    "\n",
    "output_path = \"Flora_Native_ReportOnly.xlsx\"\n",
    "native_df.to_excel(output_path, index=False)\n",
    "\n",
    "print(f\"Total Record Number: {len(native_df)} ，Saved as {output_path}\")"
   ]
  },
  {
   "cell_type": "markdown",
   "id": "c9985f37-e57c-4eb4-97c1-a2c6cd5e06c1",
   "metadata": {},
   "source": [
    "## 2. Integrate 2 synonym files provided by client (accepted names + alter names)"
   ]
  },
  {
   "cell_type": "code",
   "execution_count": 2,
   "id": "2efb5d93-0425-4ac3-aa3c-bd2f8d008bf3",
   "metadata": {},
   "outputs": [
    {
     "name": "stdout",
     "output_type": "stream",
     "text": [
      "The merged file is saved as all_synonyms_merged.xlsx\n"
     ]
    }
   ],
   "source": [
    "import pandas as pd\n",
    "\n",
    "df1 = pd.read_excel(\"new_synonyms_found2025-06-01.xlsx\", sheet_name=\"new_synonyms_found\")\n",
    "df2 = pd.read_excel(\"sorted_synonyms_for_trait_summary.xlsx\", sheet_name=\"sorted_synonyms\")\n",
    "\n",
    "df_combined = pd.concat([df1, df2], ignore_index=True)\n",
    "\n",
    "df_combined = df_combined.drop_duplicates()\n",
    "\n",
    "out_file = \"all_synonyms_merged.xlsx\"\n",
    "df_combined.to_excel(out_file, index=False)\n",
    "\n",
    "print(f\"The merged file is saved as {out_file}\")"
   ]
  },
  {
   "cell_type": "markdown",
   "id": "6e29e861-63b1-4378-b8f8-eb3951f3b511",
   "metadata": {},
   "source": [
    "## 3. Ensure no omission and repetition"
   ]
  },
  {
   "cell_type": "code",
   "execution_count": 3,
   "id": "627ff6c6-9a9b-4a1c-b751-8f33ab507718",
   "metadata": {},
   "outputs": [
    {
     "name": "stdout",
     "output_type": "stream",
     "text": [
      "Repetition Count: 88\n",
      "Repetition 10 Examples:\n",
      "              accepted_name                          alternate_names\n",
      "58    Alocasia macrorrhizos  Alocasia macrorrhizos var. brisbanensis\n",
      "101       Blechnum ambiguum                        Blechnum ambiguum\n",
      "103       Blechnum ambiguum                        Blechnum ambiguum\n",
      "133   Boronia polygalifolia                 Tetratheca oppositifolia\n",
      "134   Boronia polygalifolia                    Boronia polygalifolia\n",
      "135   Boronia polygalifolia                    Boronia oppositifolia\n",
      "153  Brachychiton australis                      Sterculia australis\n",
      "177    Callitris rhomboidea                       Frenela ventenatii\n",
      "178    Callitris rhomboidea                 Callitris cupressiformis\n",
      "179    Callitris rhomboidea                        Frenela australis\n"
     ]
    }
   ],
   "source": [
    "import pandas as pd\n",
    "\n",
    "df1 = pd.read_excel(\"new_synonyms_found2025-06-01.xlsx\", sheet_name=\"new_synonyms_found\")\n",
    "df2 = pd.read_excel(\"sorted_synonyms_for_trait_summary.xlsx\", sheet_name=\"sorted_synonyms\")\n",
    "\n",
    "df_combined = pd.concat([df1, df2], ignore_index=True)\n",
    "\n",
    "# Check repetition\n",
    "dup_rows = df_combined.duplicated().sum()\n",
    "dup_examples = df_combined[df_combined.duplicated()].head(10)\n",
    "\n",
    "print(f\"Repetition Count: {dup_rows}\")\n",
    "print(\"Repetition 10 Examples:\")\n",
    "print(dup_examples)"
   ]
  },
  {
   "cell_type": "markdown",
   "id": "f98bf9f0-9dee-4b6e-9869-66ab2bc09dbe",
   "metadata": {},
   "source": [
    "## 4. Capturing all possible names for native species\n",
    "- According to all_synonyms_merged.xlsx, list names from col 'species_name' in Flora_Native_ReportOnly.xlsx\n",
    "- Find all corresponding accepted_name & alternate_names"
   ]
  },
  {
   "cell_type": "code",
   "execution_count": 4,
   "id": "caa9a075-45dd-48df-8be2-5eba89c175b8",
   "metadata": {},
   "outputs": [
    {
     "name": "stdout",
     "output_type": "stream",
     "text": [
      "Save as flora_species_with_synonyms.xlsx\n"
     ]
    }
   ],
   "source": [
    "import pandas as pd\n",
    "\n",
    "flora_path = \"Flora_Native_ReportOnly.xlsx\"\n",
    "syn_path = \"all_synonyms_merged.xlsx\"\n",
    "\n",
    "flora = pd.read_excel(flora_path, sheet_name=0)\n",
    "syn = pd.read_excel(syn_path)\n",
    "\n",
    "syn = syn.rename(columns={\"alternate_names\": \"alt_name\"})\n",
    "\n",
    "# Unfold alternate_names\n",
    "def split_alts(val):\n",
    "    if pd.isna(val):\n",
    "        return []\n",
    "    return [x.strip() for x in str(val).replace(\"\\n\", \";\").split(\";\") if x.strip()]\n",
    "\n",
    "rows = []\n",
    "for _, row in syn.iterrows():\n",
    "    acc = str(row[\"accepted_name\"]).strip()\n",
    "    for alt in split_alts(row[\"alt_name\"]):\n",
    "        rows.append((acc, alt))\n",
    "\n",
    "syn_expanded = pd.DataFrame(rows, columns=[\"accepted_name\", \"alt_name\"])\n",
    "\n",
    "flora_species = flora[\"species_name\"].dropna().astype(str).str.strip().unique()\n",
    "\n",
    "# Find all native species' accepted_name and alternate_names\n",
    "results = []\n",
    "\n",
    "for sp in flora_species:\n",
    "    sp_matches = []\n",
    "\n",
    "    # ① if accepted_name\n",
    "    if sp in syn_expanded[\"accepted_name\"].values:\n",
    "        alts = syn_expanded[syn_expanded[\"accepted_name\"] == sp][\"alt_name\"].unique()\n",
    "        sp_matches.append((sp, \"; \".join(alts)))\n",
    "    # ② if any alternate_name\n",
    "    if sp in syn_expanded[\"alt_name\"].values:\n",
    "        accs = syn_expanded[syn_expanded[\"alt_name\"] == sp][\"accepted_name\"].unique()\n",
    "        for acc in accs:\n",
    "            alts = syn_expanded[syn_expanded[\"accepted_name\"] == acc][\"alt_name\"].unique()\n",
    "            sp_matches.append((acc, \"; \".join(alts)))\n",
    "    # ③ if fail，accepted_name=species_name, alternate_names=nan\n",
    "    if not sp_matches:\n",
    "        sp_matches.append((sp, \"\"))\n",
    "\n",
    "    # Save the output\n",
    "    for acc, alts in sp_matches:\n",
    "        results.append({\"species_name\": sp, \"accepted_name\": acc, \"alternate_names\": alts})\n",
    "\n",
    "# Convert to DataFrame\n",
    "result_df = pd.DataFrame(results)\n",
    "\n",
    "# Output\n",
    "out_path = \"flora_species_with_synonyms.xlsx\"\n",
    "result_df.to_excel(out_path, index=False)\n",
    "\n",
    "print(f\"Save as {out_path}\")"
   ]
  },
  {
   "cell_type": "markdown",
   "id": "d33cba73-6f38-4709-8f7a-4eff76f42fc8",
   "metadata": {},
   "source": [
    "## 5. Split 'alternate_names' and deduplicate"
   ]
  },
  {
   "cell_type": "code",
   "execution_count": 5,
   "id": "e7f20d38-da0a-4092-89cb-3ab5701d65b6",
   "metadata": {},
   "outputs": [
    {
     "name": "stdout",
     "output_type": "stream",
     "text": [
      "Expanded and deduplicated 'alternate_names'，10199 records in total，saved as flora_species_with_synonyms_expanded.xlsx\n"
     ]
    }
   ],
   "source": [
    "import pandas as pd\n",
    "\n",
    "in_file = \"flora_species_with_synonyms.xlsx\"\n",
    "out_file = \"flora_species_with_synonyms_expanded.xlsx\"\n",
    "\n",
    "df = pd.read_excel(in_file)\n",
    "\n",
    "# Split alternate_names\n",
    "rows = []\n",
    "for _, row in df.iterrows():\n",
    "    acc = str(row[\"accepted_name\"]).strip()\n",
    "    species = str(row[\"species_name\"]).strip()\n",
    "    alts = str(row[\"alternate_names\"]) if pd.notna(row[\"alternate_names\"]) else \"\"\n",
    "\n",
    "    # Split use ;\n",
    "    for alt in alts.split(\";\"):\n",
    "        alt = alt.strip()\n",
    "        if alt:  \n",
    "            rows.append({\n",
    "                \"species_name\": species,\n",
    "                \"accepted_name\": acc,\n",
    "                \"alternate_name\": alt\n",
    "            })\n",
    "\n",
    "# Convert to DataFrame\n",
    "expanded_df = pd.DataFrame(rows)\n",
    "\n",
    "# Deduplication\n",
    "expanded_df = expanded_df.drop_duplicates()\n",
    "\n",
    "# Save\n",
    "expanded_df.to_excel(out_file, index=False)\n",
    "\n",
    "print(f\"Expanded and deduplicated 'alternate_names'，{len(expanded_df)} records in total，saved as {out_file}\")"
   ]
  },
  {
   "cell_type": "markdown",
   "id": "6b09dc37-6692-4d9e-9803-9c143c7fb152",
   "metadata": {},
   "source": [
    "## 6. Match Occurrence records through comprehensive species synonym names"
   ]
  },
  {
   "cell_type": "code",
   "execution_count": 6,
   "id": "897bc0a1-eac7-44a6-92ad-80b883035a95",
   "metadata": {},
   "outputs": [
    {
     "name": "stdout",
     "output_type": "stream",
     "text": [
      "Total records of occurrences: 43206\n",
      "Successful Matching of 27977 Records\n",
      "Filtered results are saved as occurrences_native_matched.csv\n"
     ]
    }
   ],
   "source": [
    "import pandas as pd\n",
    "\n",
    "occ_file = \"occurrences.csv\"\n",
    "syn_file = \"flora_species_with_synonyms_expanded.xlsx\"\n",
    "out_file = \"occurrences_native_matched.csv\"\n",
    "\n",
    "occ = pd.read_csv(occ_file)\n",
    "syn = pd.read_excel(syn_file)\n",
    "\n",
    "# Collect all possible names\n",
    "all_names = set()\n",
    "\n",
    "for col in [\"species_name\", \"accepted_name\", \"alternate_name\"]:\n",
    "    if col in syn.columns:\n",
    "        all_names.update(syn[col].dropna().astype(str).str.strip())\n",
    "\n",
    "# Filter occurrences\n",
    "occ_matched = occ[occ[\"scientific_name\"].isin(all_names)].copy()\n",
    "\n",
    "print(f\"Total records of occurrences: {len(occ)}\")\n",
    "print(f\"Successful Matching of {len(occ_matched)} Records\")\n",
    "\n",
    "# Output results\n",
    "occ_matched.to_csv(out_file, index=False)\n",
    "print(f\"Filtered results are saved as {out_file}\")"
   ]
  }
 ],
 "metadata": {
  "kernelspec": {
   "display_name": "Python 3 (ipykernel)",
   "language": "python",
   "name": "python3"
  },
  "language_info": {
   "codemirror_mode": {
    "name": "ipython",
    "version": 3
   },
   "file_extension": ".py",
   "mimetype": "text/x-python",
   "name": "python",
   "nbconvert_exporter": "python",
   "pygments_lexer": "ipython3",
   "version": "3.12.4"
  }
 },
 "nbformat": 4,
 "nbformat_minor": 5
}
