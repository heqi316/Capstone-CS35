{
 "cells": [
  {
   "cell_type": "markdown",
   "id": "faed8208-b464-4cb3-8a52-dda1895bf2f3",
   "metadata": {},
   "source": [
    "Experiment 11 – Karlo’s Orchids\n",
    "Select all observations for species in the Orchidaceae family. \n",
    "List the species observations, showing scientific & common names, date recorded, reserve where found, GPS coordinates, basis of record, recorded by, Occurrence Remarks.\n",
    "The GPS coordinates may be reduced to show the site within 10 kms, so most may not be shown as in a reserve."
   ]
  },
  {
   "cell_type": "code",
   "execution_count": 2,
   "id": "9cd1db94-5584-40a7-94d7-9c5e86ee752d",
   "metadata": {},
   "outputs": [
    {
     "name": "stdout",
     "output_type": "stream",
     "text": [
      "Exported 530 Orchidaceae observations to Experiment11_Karlo_Orchids.xlsx\n"
     ]
    }
   ],
   "source": [
    "import pandas as pd\n",
    "\n",
    "# Key files\n",
    "species_file = \"species.csv\"\n",
    "occurrence_file = \"occurrences_new.csv\"\n",
    "output_file = \"Experiment11_Karlo_Orchids.xlsx\"\n",
    "\n",
    "# Read data\n",
    "species_df = pd.read_csv(species_file)\n",
    "occ_df = pd.read_csv(occurrence_file, dtype=str)\n",
    "\n",
    "# Filter only family = Orchidaceae\n",
    "orchid_species = species_df[species_df['family_name'].str.strip().str.lower() == \"orchidaceae\"]\n",
    "\n",
    "# Scientific (scientific_name) & Common names (vernacular_name)\n",
    "# Only keep the columns of scientific names and common names for matching\n",
    "orchid_species = orchid_species[['scientific_name', 'vernacular_name']]\n",
    "\n",
    "# Merge the occurrence observation data\n",
    "merged = occ_df.merge(orchid_species, on='scientific_name', how='inner')\n",
    "\n",
    "# Generate GPS coordinates (with accuracy reduced to approximately 10 kilometers)\n",
    "merged['decimal_latitude'] = pd.to_numeric(merged['decimal_latitude'], errors='coerce')\n",
    "merged['decimal_longitude'] = pd.to_numeric(merged['decimal_longitude'], errors='coerce')\n",
    "\n",
    "merged['GPS Coordinates'] = merged['decimal_latitude'].round(1).astype(str) + \", \" + merged['decimal_longitude'].round(1).astype(str)\n",
    "\n",
    "# Select and rename the output columns\n",
    "output = merged[[\n",
    "    'scientific_name',\n",
    "    'vernacular_name',\n",
    "    'event_date',\n",
    "    'reserve_name',\n",
    "    'GPS Coordinates',\n",
    "    'basis_of_record',\n",
    "    'recorded_by',\n",
    "    'occurrence_remarks'\n",
    "]].rename(columns={\n",
    "    'scientific_name': 'Scientific Name',\n",
    "    'vernacular_name': 'Common Name',\n",
    "    'event_date': 'Date Recorded',\n",
    "    'reserve_name': 'Reserve where found',\n",
    "    'GPS Coordinates': 'GPS Coordinates (lat, lon)',\n",
    "    'basis_of_record': 'Basis of Record',\n",
    "    'recorded_by': 'Recorded by',\n",
    "    'occurrence_remarks': 'Occurrence Remarks'\n",
    "})\n",
    "\n",
    "# Output results\n",
    "output.to_excel(output_file, index=False)\n",
    "print(f\"Exported {len(output)} Orchidaceae observations to {output_file}\")"
   ]
  }
 ],
 "metadata": {
  "kernelspec": {
   "display_name": "Python 3 (ipykernel)",
   "language": "python",
   "name": "python3"
  },
  "language_info": {
   "codemirror_mode": {
    "name": "ipython",
    "version": 3
   },
   "file_extension": ".py",
   "mimetype": "text/x-python",
   "name": "python",
   "nbconvert_exporter": "python",
   "pygments_lexer": "ipython3",
   "version": "3.12.4"
  }
 },
 "nbformat": 4,
 "nbformat_minor": 5
}
