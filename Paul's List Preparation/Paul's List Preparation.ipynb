{
 "cells": [
  {
   "cell_type": "markdown",
   "id": "10ce8b7f-1cb5-4de1-bff3-ed5b49e0bfba",
   "metadata": {},
   "source": [
    "# Paul’s List, Extended\n",
    "## Plant Species List Preparation, Native & Exotic"
   ]
  },
  {
   "cell_type": "code",
   "execution_count": 36,
   "id": "2062a292-24cb-4b63-86e0-8a199e217976",
   "metadata": {},
   "outputs": [
    {
     "name": "stdout",
     "output_type": "stream",
     "text": [
      "The new file is saved as：new_species.csv\n"
     ]
    }
   ],
   "source": [
    "import pandas as pd\n",
    "\n",
    "df = pd.read_csv(\"species.csv\")\n",
    "\n",
    "# Reorder the col sequences\n",
    "new_order = [\n",
    "    \"scientific_name\",\n",
    "    \"vernacular_name\",\n",
    "    \"family_name\",\n",
    "    \"taxon_rank\",\n",
    "    \"threatened_species_status\",\n",
    "    \"genus\",\n",
    "    \"subgenus\",\n",
    "    \"exotic\"\n",
    "]\n",
    "\n",
    "df = df[[col for col in new_order if col in df.columns]]\n",
    "\n",
    "# Add new col 'native'\n",
    "df[\"native\"] = \"\"\n",
    "\n",
    "# Output new file\n",
    "df.to_csv(\"new_species.csv\", index=False)\n",
    "\n",
    "print(\"The new file is saved as：new_species.csv\")"
   ]
  },
  {
   "cell_type": "markdown",
   "id": "8a88b098-2659-4cc5-afd7-88e1b2b51be8",
   "metadata": {},
   "source": [
    "## Use KS file to identify native (planted native)/exotic, others=genus only"
   ]
  },
  {
   "cell_type": "code",
   "execution_count": 37,
   "id": "2cae7ee6-c78e-478e-92cb-0045d158da7d",
   "metadata": {},
   "outputs": [],
   "source": [
    "species = pd.read_csv(\"new_species.csv\")\n",
    "ks = pd.read_excel(\"KS edited Flora_All Species20250624-Weed VS Native.xlsx\")\n",
    "\n",
    "# Standardise column names (remove redundant Spaces)\n",
    "species.columns = species.columns.str.strip()\n",
    "ks.columns = ks.columns.str.strip()\n",
    "\n",
    "# Select key col's from KS file, and remove duplicates\n",
    "ks_subset = ks[['species_name', 'Local Status', 'planted_native']].drop_duplicates(subset=['species_name'], keep='first')\n",
    "\n",
    "# Merge（Left Join - species）\n",
    "merged = pd.merge(\n",
    "    species,\n",
    "    ks_subset,\n",
    "    left_on='scientific_name',\n",
    "    right_on='species_name',\n",
    "    how='left'\n",
    ")\n",
    "\n",
    "# Fill 'native' col\n",
    "def classify(row):\n",
    "    if pd.notna(row['planted_native']) and row['planted_native'].strip().lower() == \"planted native\":\n",
    "        return \"Native\" # See 'Planted Native' as 'Native'\n",
    "    elif pd.notna(row['Local Status']):\n",
    "        if row['Local Status'].strip().lower() == \"native\":\n",
    "            return \"Native\"\n",
    "        elif row['Local Status'].strip().lower() == \"exotic\":\n",
    "            return \"Exotic\"\n",
    "    return \"\"\n",
    "    \n",
    "merged['native'] = merged.apply(classify, axis=1)\n",
    "\n",
    "# Created 'category' col\n",
    "def label_category(row):\n",
    "    if row['native'] == \"Native\":\n",
    "        return \"Native\"\n",
    "    elif row['native'] == \"Exotic\":\n",
    "        return \"Exotic\"\n",
    "    else:\n",
    "        return \"Genus Only\"\n",
    "\n",
    "merged['category'] = merged.apply(label_category, axis=1)"
   ]
  },
  {
   "cell_type": "markdown",
   "id": "eff4393e-76b1-446b-a9ee-296c240881a5",
   "metadata": {},
   "source": [
    "### Merge 'Genus Only' records from P18 file"
   ]
  },
  {
   "cell_type": "code",
   "execution_count": 38,
   "id": "608c623b-931a-40ce-9f25-2cf9d281d8cd",
   "metadata": {},
   "outputs": [
    {
     "name": "stdout",
     "output_type": "stream",
     "text": [
      "Added 100 genus-only records from Presence file (using normalized_name).\n"
     ]
    }
   ],
   "source": [
    "mqu_file = r\"USyd-P18-Presence_FOA_and_PlantNET-Genus.xlsx\"\n",
    "genus_df = pd.read_excel(mqu_file, sheet_name=\"Presence\")\n",
    "\n",
    "# Standardise col names\n",
    "genus_df.columns = genus_df.columns.str.strip().str.lower()\n",
    "\n",
    "# Filter Native? == \"genus\"\n",
    "genus_only = genus_df[genus_df[\"native?\"].str.lower() == \"genus\"]\n",
    "\n",
    "# Extract normalized_name col（Species names）\n",
    "genus_names = genus_only[\"normalized_name\"].dropna().unique()\n",
    "\n",
    "# Update the category value of the matching record in the main Species table\n",
    "merged.loc[merged[\"scientific_name\"].isin(genus_names), \"category\"] = \"Genus Only\"\n",
    "\n",
    "print(f\"Added {len(genus_names)} genus-only records from Presence file (using normalized_name).\")"
   ]
  },
  {
   "cell_type": "code",
   "execution_count": 39,
   "id": "c01a83bd-7983-47ad-b03a-145785e2e9f4",
   "metadata": {},
   "outputs": [
    {
     "name": "stdout",
     "output_type": "stream",
     "text": [
      "The new file is saved as：species_with_category.csv\n"
     ]
    }
   ],
   "source": [
    "# Delete redundant columns\n",
    "merged.drop(columns=['species_name', 'Local Status', 'planted_native', 'vernacular_name', 'family_name', 'taxon_rank', 'threatened_species_status', 'genus', 'subgenus'], inplace=True)\n",
    "\n",
    "merged.to_csv(\"species_with_category.csv\", index=False)\n",
    "\n",
    "print(\"The new file is saved as：species_with_category.csv\")"
   ]
  },
  {
   "cell_type": "markdown",
   "id": "6dd46afe-83a6-4986-ab07-73874aac3d7d",
   "metadata": {},
   "source": [
    "## Delete unnecessary cols for clarity"
   ]
  },
  {
   "cell_type": "code",
   "execution_count": 40,
   "id": "eda2580e-167a-453c-87f2-926b41202971",
   "metadata": {},
   "outputs": [],
   "source": [
    "species = pd.read_csv(\"species_with_category.csv\")\n",
    "species.drop(columns=[\"exotic\", \"native\", \"category\"], inplace=True, errors=\"ignore\")"
   ]
  },
  {
   "cell_type": "markdown",
   "id": "f69c6fd6-2322-4395-b297-ae3072013109",
   "metadata": {},
   "source": [
    "## Create 3 separate lists"
   ]
  },
  {
   "cell_type": "code",
   "execution_count": 41,
   "id": "e3ac3a58-31b8-4c4b-a2aa-a3c6f2855dc6",
   "metadata": {},
   "outputs": [
    {
     "name": "stdout",
     "output_type": "stream",
     "text": [
      "Exported to prepared_Paul's_List.xlsx with 3 sheets: Native, Exotic, Genus Only.\n"
     ]
    }
   ],
   "source": [
    "classified = pd.read_csv(\"species_with_category.csv\")\n",
    "\n",
    "# Group by category\n",
    "native_df = species[classified[\"category\"] == \"Native\"]\n",
    "exotic_df = species[classified[\"category\"] == \"Exotic\"]\n",
    "genus_df = species[classified[\"category\"] == \"Genus Only\"]\n",
    "\n",
    "output_file = \"prepared_Paul's_List.xlsx\"\n",
    "\n",
    "with pd.ExcelWriter(output_file, engine=\"openpyxl\") as writer:\n",
    "    native_df.to_excel(writer, sheet_name=\"Native\", index=False)\n",
    "    exotic_df.to_excel(writer, sheet_name=\"Exotic\", index=False)\n",
    "    genus_df.to_excel(writer, sheet_name=\"Genus Only\", index=False)\n",
    "\n",
    "print(f\"Exported to {output_file} with 3 sheets: Native, Exotic, Genus Only.\")"
   ]
  }
 ],
 "metadata": {
  "kernelspec": {
   "display_name": "Python 3 (ipykernel)",
   "language": "python",
   "name": "python3"
  },
  "language_info": {
   "codemirror_mode": {
    "name": "ipython",
    "version": 3
   },
   "file_extension": ".py",
   "mimetype": "text/x-python",
   "name": "python",
   "nbconvert_exporter": "python",
   "pygments_lexer": "ipython3",
   "version": "3.12.4"
  }
 },
 "nbformat": 4,
 "nbformat_minor": 5
}
